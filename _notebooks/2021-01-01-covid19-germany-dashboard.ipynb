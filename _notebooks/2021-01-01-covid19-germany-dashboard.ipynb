{
 "metadata": {
  "language_info": {
   "codemirror_mode": {
    "name": "ipython",
    "version": 3
   },
   "file_extension": ".py",
   "mimetype": "text/x-python",
   "name": "python",
   "nbconvert_exporter": "python",
   "pygments_lexer": "ipython3",
   "version": 3
  },
  "orig_nbformat": 2
 },
 "nbformat": 4,
 "nbformat_minor": 2,
 "cells": [
  {
   "source": [
    "# COVID-19 Germany local incidence and ICU occupancy (in German)\n",
    "> \"Some time ago at the beginning of the COVID-19 pandemic, I decided to create a Twitter bot to automatically gather the latest data about the COVID-19 pandemic in Germany and share it to the Twittersphere. I also created and deployed a [dashboard heroku app](https://corona7tage.herokuapp.com). I was motivated by the lack, at the time, of local (county and city level) easily accessible incidence and ICU occupancy data. Back then only aggregated data by Bundesland and at a national level were available through the official Robert Koch Institute dashboard. Meanwhile, both the RKI and DIVI (for ICU data) have improved their dashboard data granularity. I still maintain both the Twitter bot and the dashboard, as they run with little overhead.\"\n",
    "\n",
    "- toc:false\n",
    "- branch: master\n",
    "- badges: true\n",
    "- comments: false\n",
    "- author: Dario Arcos-Díaz\n",
    "- categories: [healthcare, dashboard, covid19]\n",
    "- image: images/covid19-dashboard.png"
   ],
   "cell_type": "markdown",
   "metadata": {}
  },
  {
   "source": [
    "## - [Dashboard Heroku App](https://corona7tage.herokuapp.com)\n",
    "## - [Twitter bot @corona7tage](https://twitter.com/corona7tage)\n",
    "## - [RKI dashboard](https://corona.rki.de)\n",
    "## - [DIVI](https://www.intensivregister.de/#/aktuelle-lage/zeitreihen)"
   ],
   "cell_type": "markdown",
   "metadata": {}
  }
 ]
}